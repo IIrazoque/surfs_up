{
 "cells": [
  {
   "cell_type": "code",
   "execution_count": 1,
   "id": "46066d25",
   "metadata": {},
   "outputs": [
    {
     "name": "stdout",
     "output_type": "stream",
     "text": [
      "Requirement already satisfied: flask in c:\\users\\17634\\anaconda3\\envs\\pythondata\\lib\\site-packages (1.1.2)\n",
      "Requirement already satisfied: click>=5.1 in c:\\users\\17634\\anaconda3\\envs\\pythondata\\lib\\site-packages (from flask) (8.0.4)\n",
      "Requirement already satisfied: Werkzeug>=0.15 in c:\\users\\17634\\anaconda3\\envs\\pythondata\\lib\\site-packages (from flask) (2.0.3)\n",
      "Requirement already satisfied: Jinja2>=2.10.1 in c:\\users\\17634\\anaconda3\\envs\\pythondata\\lib\\site-packages (from flask) (2.11.3)\n",
      "Requirement already satisfied: itsdangerous>=0.24 in c:\\users\\17634\\anaconda3\\envs\\pythondata\\lib\\site-packages (from flask) (2.0.1)\n",
      "Requirement already satisfied: colorama in c:\\users\\17634\\anaconda3\\envs\\pythondata\\lib\\site-packages (from click>=5.1->flask) (0.4.4)\n",
      "Requirement already satisfied: importlib-metadata in c:\\users\\17634\\anaconda3\\envs\\pythondata\\lib\\site-packages (from click>=5.1->flask) (4.11.3)\n",
      "Requirement already satisfied: MarkupSafe>=0.23 in c:\\users\\17634\\anaconda3\\envs\\pythondata\\lib\\site-packages (from Jinja2>=2.10.1->flask) (2.0.1)\n",
      "Requirement already satisfied: zipp>=0.5 in c:\\users\\17634\\anaconda3\\envs\\pythondata\\lib\\site-packages (from importlib-metadata->click>=5.1->flask) (3.7.0)\n",
      "Requirement already satisfied: typing-extensions>=3.6.4 in c:\\users\\17634\\anaconda3\\envs\\pythondata\\lib\\site-packages (from importlib-metadata->click>=5.1->flask) (4.1.1)\n",
      "Note: you may need to restart the kernel to use updated packages.\n"
     ]
    }
   ],
   "source": [
    "pip install flask"
   ]
  },
  {
   "cell_type": "code",
   "execution_count": 2,
   "id": "c30e4966",
   "metadata": {},
   "outputs": [],
   "source": [
    "#import flask dependency \n",
    "from flask import Flask"
   ]
  },
  {
   "cell_type": "code",
   "execution_count": 3,
   "id": "85eb187a",
   "metadata": {},
   "outputs": [],
   "source": [
    "#create a new Flask instance \n",
    "app = Flask(__name__)"
   ]
  },
  {
   "cell_type": "code",
   "execution_count": 4,
   "id": "7989901c",
   "metadata": {},
   "outputs": [],
   "source": [
    "#Create Flask Routes\n",
    "@app.route('/')\n",
    "def hello_world():\n",
    "    return 'Hello world'"
   ]
  },
  {
   "cell_type": "code",
   "execution_count": 6,
   "id": "b6df797d",
   "metadata": {},
   "outputs": [],
   "source": [
    "#Run a flask app\n",
    "localhost:5000"
   ]
  },
  {
   "cell_type": "code",
   "execution_count": null,
   "id": "0aa97ab0",
   "metadata": {},
   "outputs": [],
   "source": []
  },
  {
   "cell_type": "code",
   "execution_count": null,
   "id": "eea070a1",
   "metadata": {},
   "outputs": [],
   "source": []
  }
 ],
 "metadata": {
  "kernelspec": {
   "display_name": "PythonData",
   "language": "python",
   "name": "pythondata"
  },
  "language_info": {
   "codemirror_mode": {
    "name": "ipython",
    "version": 3
   },
   "file_extension": ".py",
   "mimetype": "text/x-python",
   "name": "python",
   "nbconvert_exporter": "python",
   "pygments_lexer": "ipython3",
   "version": "3.7.13"
  }
 },
 "nbformat": 4,
 "nbformat_minor": 5
}
